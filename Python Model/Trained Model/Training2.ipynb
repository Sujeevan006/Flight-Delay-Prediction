{
 "cells": [
  {
   "cell_type": "code",
   "execution_count": 7,
   "id": "a5930855-77f4-47a9-bf5c-b97581639844",
   "metadata": {},
   "outputs": [],
   "source": [
    "import os\n",
    "import pandas as pd\n",
    "import joblib\n",
    "from sklearn.model_selection import train_test_split, RandomizedSearchCV\n",
    "from sklearn.preprocessing import StandardScaler, OneHotEncoder\n",
    "from sklearn.ensemble import RandomForestClassifier\n",
    "from sklearn.metrics import roc_auc_score\n",
    "import xgboost as xgb\n",
    "from scipy.stats import randint, uniform"
   ]
  },
  {
   "cell_type": "code",
   "execution_count": 8,
   "id": "0b89e8a7-a487-4abf-bb6a-52bb74e1a49a",
   "metadata": {},
   "outputs": [],
   "source": [
    "MODEL_DIR = \"models\"\n",
    "os.makedirs(MODEL_DIR, exist_ok=True)"
   ]
  },
  {
   "cell_type": "code",
   "execution_count": 10,
   "id": "4d410e97-577d-4fc3-8b2a-b08a271e7487",
   "metadata": {},
   "outputs": [],
   "source": [
    "data_path = \"D:/Avs/ICBT/CI/system3/train.csv\"\n",
    "train_df = pd.read_csv(data_path)"
   ]
  },
  {
   "cell_type": "code",
   "execution_count": 11,
   "id": "0c076355-b62c-45eb-b735-921591919270",
   "metadata": {},
   "outputs": [],
   "source": [
    "train_df['DepHour'] = train_df['DepTime'] // 100\n",
    "train_df['DepMinute'] = train_df['DepTime'] % 100\n",
    "\n",
    "def create_time_slot(hour):\n",
    "    \"\"\"Classifies departure time into slots.\"\"\"\n",
    "    if 6 <= hour < 10:\n",
    "        return 'Morning'\n",
    "    elif 10 <= hour < 14:\n",
    "        return 'Midday'\n",
    "    elif 14 <= hour < 18:\n",
    "        return 'Afternoon'\n",
    "    elif 18 <= hour < 22:\n",
    "        return 'Evening'\n",
    "    return 'Night'\n",
    "\n",
    "train_df['DepTimeSlot'] = train_df['DepHour'].apply(create_time_slot)\n",
    "train_df.drop(['DepHour', 'DepMinute'], axis=1, inplace=True)"
   ]
  },
  {
   "cell_type": "code",
   "execution_count": 5,
   "id": "d9a25e63-4b19-475b-8b4a-38590435f3e6",
   "metadata": {},
   "outputs": [],
   "source": [
    "categorical_cols = ['Month', 'DayofMonth', 'DayOfWeek', 'UniqueCarrier', 'Origin', 'Dest', 'DepTimeSlot']\n",
    "encoder = OneHotEncoder(handle_unknown='ignore', sparse_output=False)\n",
    "encoded_train = encoder.fit_transform(train_df[categorical_cols])\n",
    "encoded_train_df = pd.DataFrame(encoded_train, columns=encoder.get_feature_names_out(categorical_cols))\n",
    "\n",
    "train_df.drop(columns=categorical_cols, inplace=True)\n",
    "train_df = pd.concat([train_df, encoded_train_df], axis=1)"
   ]
  },
  {
   "cell_type": "code",
   "execution_count": 6,
   "id": "60c4b6ed-8811-41f6-875d-437bff068b55",
   "metadata": {},
   "outputs": [],
   "source": [
    "train_df['dep_delayed_15min'] = train_df['dep_delayed_15min'].map({'Y': 1, 'N': 0}).astype(int)"
   ]
  },
  {
   "cell_type": "code",
   "execution_count": 7,
   "id": "1f844ff6-55ad-4648-9a8f-d7d14e59f11a",
   "metadata": {},
   "outputs": [],
   "source": [
    "X = train_df.drop(columns=['dep_delayed_15min'])\n",
    "y = train_df['dep_delayed_15min']\n",
    "X_train, X_val, y_train, y_val = train_test_split(X, y, test_size=0.2, random_state=42, stratify=y)"
   ]
  },
  {
   "cell_type": "code",
   "execution_count": 8,
   "id": "1b8a5a9b-31f0-46cf-8dc0-a91592506b38",
   "metadata": {},
   "outputs": [],
   "source": [
    "scaler = StandardScaler()\n",
    "X_train = scaler.fit_transform(X_train)\n",
    "X_val = scaler.transform(X_val)"
   ]
  },
  {
   "cell_type": "code",
   "execution_count": 10,
   "id": "3592b072-855a-4535-9438-d6f86e9b8659",
   "metadata": {},
   "outputs": [
    {
     "name": "stdout",
     "output_type": "stream",
     "text": [
      "Best RandomForest Parameters: {'max_depth': 19, 'min_samples_leaf': 3, 'min_samples_split': 5, 'n_estimators': 363}\n"
     ]
    }
   ],
   "source": [
    "param_dist_rf = {\n",
    "    'n_estimators': randint(100, 500),\n",
    "    'max_depth': randint(5, 20),\n",
    "    'min_samples_split': randint(2, 10),\n",
    "    'min_samples_leaf': randint(1, 4)\n",
    "}\n",
    "\n",
    "rf_model = RandomForestClassifier(random_state=42)\n",
    "random_search_rf = RandomizedSearchCV(rf_model, param_distributions=param_dist_rf, n_iter=20, cv=5, scoring='roc_auc', n_jobs=-1, random_state=42)\n",
    "random_search_rf.fit(X_train, y_train)\n",
    "\n",
    "best_rf_model = random_search_rf.best_estimator_\n",
    "print(\"Best RandomForest Parameters:\", random_search_rf.best_params_)"
   ]
  },
  {
   "cell_type": "code",
   "execution_count": 11,
   "id": "e09a84e1-2c86-41ca-a4c1-1166162cde03",
   "metadata": {},
   "outputs": [
    {
     "name": "stdout",
     "output_type": "stream",
     "text": [
      "Random Forest model saved successfully!\n"
     ]
    }
   ],
   "source": [
    "joblib.dump(best_rf_model, \"best_rf_model.joblib\")\n",
    "print(\"Random Forest model saved successfully!\")"
   ]
  },
  {
   "cell_type": "code",
   "execution_count": 12,
   "id": "a5ffa877-c318-476d-b07b-48c441010592",
   "metadata": {},
   "outputs": [
    {
     "name": "stdout",
     "output_type": "stream",
     "text": [
      "Random Forest model loaded successfully!\n"
     ]
    }
   ],
   "source": [
    "loaded_rf_model = joblib.load(\"best_rf_model.joblib\")\n",
    "print(\"Random Forest model loaded successfully!\")"
   ]
  },
  {
   "cell_type": "markdown",
   "id": "e64bc1c7-7b26-4273-8907-dd40938ae477",
   "metadata": {},
   "source": [
    "## Hyperparameter Tuning - XGBoost"
   ]
  },
  {
   "cell_type": "code",
   "execution_count": 13,
   "id": "8fecb150-8561-42b3-ae41-c1c93dff577b",
   "metadata": {},
   "outputs": [
    {
     "name": "stdout",
     "output_type": "stream",
     "text": [
      "Best XGBoost Parameters: {'colsample_bytree': 0.9140703845572055, 'learning_rate': 0.06990213464750791, 'max_depth': 9, 'n_estimators': 343, 'subsample': 0.836965827544817}\n"
     ]
    }
   ],
   "source": [
    "param_dist_xgb = {\n",
    "    'n_estimators': randint(100, 500),\n",
    "    'max_depth': randint(3, 10),\n",
    "    'learning_rate': uniform(0.01, 0.3),\n",
    "    'subsample': uniform(0.6, 0.4),\n",
    "    'colsample_bytree': uniform(0.6, 0.4)\n",
    "}\n",
    "\n",
    "xgb_model = xgb.XGBClassifier(random_state=42, eval_metric='logloss')  # Removed use_label_encoder=False if using XGBoost v1.3+\n",
    "random_search_xgb = RandomizedSearchCV(xgb_model, param_distributions=param_dist_xgb, n_iter=20, cv=5, scoring='roc_auc', n_jobs=-1, random_state=42)\n",
    "random_search_xgb.fit(X_train, y_train)\n",
    "\n",
    "best_xgb_model = random_search_xgb.best_estimator_\n",
    "print(\"Best XGBoost Parameters:\", random_search_xgb.best_params_)"
   ]
  },
  {
   "cell_type": "code",
   "execution_count": 14,
   "id": "0e67353f-6231-47e4-8027-f2e698c3e433",
   "metadata": {},
   "outputs": [
    {
     "name": "stdout",
     "output_type": "stream",
     "text": [
      "Validation ROC AUC (RandomForest): 0.7227903694086082\n",
      "Validation ROC AUC (XGBoost): 0.7585504663830318\n"
     ]
    }
   ],
   "source": [
    "y_pred_rf = best_rf_model.predict_proba(X_val)[:, 1]\n",
    "roc_auc_rf = roc_auc_score(y_val, y_pred_rf)\n",
    "print(\"Validation ROC AUC (RandomForest):\", roc_auc_rf)\n",
    "\n",
    "y_pred_xgb = best_xgb_model.predict_proba(X_val)[:, 1]\n",
    "roc_auc_xgb = roc_auc_score(y_val, y_pred_xgb)\n",
    "print(\"Validation ROC AUC (XGBoost):\", roc_auc_xgb)"
   ]
  },
  {
   "cell_type": "code",
   "execution_count": 15,
   "id": "2e3281ff-c946-425f-8b49-02c8c01e1611",
   "metadata": {},
   "outputs": [
    {
     "name": "stdout",
     "output_type": "stream",
     "text": [
      "Best model saved as: models\\flight_delay_model_xgb_tuned.joblib\n"
     ]
    }
   ],
   "source": [
    "if roc_auc_xgb > roc_auc_rf:\n",
    "    best_model = best_xgb_model\n",
    "    model_filename = os.path.join(MODEL_DIR, 'flight_delay_model_xgb_tuned.joblib')\n",
    "else:\n",
    "    best_model = best_rf_model\n",
    "    model_filename = os.path.join(MODEL_DIR, 'flight_delay_model_rf_tuned.joblib')\n",
    "\n",
    "joblib.dump(best_model, model_filename)\n",
    "joblib.dump(scaler, os.path.join(MODEL_DIR, 'standard_scaler_tuned.joblib'))\n",
    "joblib.dump(encoder, os.path.join(MODEL_DIR, 'one_hot_encoder_tuned.joblib'))\n",
    "joblib.dump(X.columns.tolist(), os.path.join(MODEL_DIR, 'model_columns_tuned.joblib'))\n",
    "\n",
    "print(f\"Best model saved as: {model_filename}\")"
   ]
  },
  {
   "cell_type": "code",
   "execution_count": 4,
   "id": "9e2a3568-041d-4247-9ada-1fb3b3760a24",
   "metadata": {},
   "outputs": [],
   "source": [
    "loaded_model = joblib.load('flight_delay_model.joblib')\n",
    "loaded_scaler = joblib.load('standard_scaler.joblib')\n",
    "loaded_encoder = joblib.load('one_hot_encoder.joblib')\n",
    "loaded_columns = joblib.load('model_columns.joblib')"
   ]
  },
  {
   "cell_type": "code",
   "execution_count": 12,
   "id": "fa603691-ef06-4a15-8beb-0df457f96a20",
   "metadata": {},
   "outputs": [],
   "source": [
    "test_df = pd.read_csv(\"D:/Avs/ICBT/CI/system2/test.csv\")"
   ]
  },
  {
   "cell_type": "code",
   "execution_count": 13,
   "id": "f797bb86-311b-4f26-a7aa-8e681389d8c7",
   "metadata": {},
   "outputs": [],
   "source": [
    "test_df['DepHour'] = test_df['DepTime'] // 100\n",
    "test_df['DepMinute'] = test_df['DepTime'] % 100"
   ]
  },
  {
   "cell_type": "code",
   "execution_count": 14,
   "id": "f0fee06f-c0d0-41a9-ac49-2494a6d4ba27",
   "metadata": {},
   "outputs": [],
   "source": [
    "def create_time_slot(hour):\n",
    "    if 6 <= hour < 10:\n",
    "        return 'Morning'\n",
    "    elif 10 <= hour < 14:\n",
    "        return 'Midday'\n",
    "    elif 14 <= hour < 18:\n",
    "        return 'Afternoon'\n",
    "    elif 18 <= hour < 22:\n",
    "        return 'Evening'\n",
    "    else:\n",
    "        return 'Night'\n",
    "\n",
    "test_df['DepTimeSlot'] = test_df['DepHour'].apply(create_time_slot)\n",
    "test_df = test_df.drop(['DepHour', 'DepMinute'], axis=1)\n"
   ]
  },
  {
   "cell_type": "code",
   "execution_count": 15,
   "id": "b9605e6b-3a7f-4dc8-805b-bc14569e0b48",
   "metadata": {},
   "outputs": [],
   "source": [
    "categorical_cols = ['Month', 'DayofMonth', 'DayOfWeek', 'UniqueCarrier', 'Origin', 'Dest', 'DepTimeSlot']\n",
    "encoded_test = loaded_encoder.transform(test_df[categorical_cols])\n",
    "encoded_test_df = pd.DataFrame(encoded_test, columns=loaded_encoder.get_feature_names_out(categorical_cols))\n",
    "test_df = test_df.drop(categorical_cols, axis=1)\n",
    "test_df = pd.concat([test_df, encoded_test_df], axis=1)"
   ]
  },
  {
   "cell_type": "code",
   "execution_count": 16,
   "id": "a5f3fae8-961a-4238-b0a1-9e6610a09230",
   "metadata": {},
   "outputs": [],
   "source": [
    "test_df = test_df[loaded_columns]"
   ]
  },
  {
   "cell_type": "code",
   "execution_count": 17,
   "id": "009eb8fb-1cde-41ec-b38d-5f33a63be5e5",
   "metadata": {},
   "outputs": [],
   "source": [
    "scaled_test = loaded_scaler.transform(test_df)"
   ]
  },
  {
   "cell_type": "code",
   "execution_count": 18,
   "id": "34e6c90f-01a1-4ec3-b95a-19a736e74cf0",
   "metadata": {},
   "outputs": [],
   "source": [
    "predictions = loaded_model.predict_proba(scaled_test)[:, 1]"
   ]
  },
  {
   "cell_type": "code",
   "execution_count": 21,
   "id": "8960e036-30df-4a58-a1ba-e4da8f102eab",
   "metadata": {},
   "outputs": [
    {
     "name": "stdout",
     "output_type": "stream",
     "text": [
      "submission.csv created!\n"
     ]
    }
   ],
   "source": [
    "submission_df = pd.DataFrame({'id': range(0, len(predictions)), 'dep_delayed_15min': predictions})\n",
    "submission_df.to_csv('submission.csv', index=False)\n",
    "\n",
    "print('submission.csv created!')"
   ]
  },
  {
   "cell_type": "code",
   "execution_count": null,
   "id": "ce0460ab-d246-4d5e-876b-84d052a6e991",
   "metadata": {},
   "outputs": [],
   "source": []
  }
 ],
 "metadata": {
  "kernelspec": {
   "display_name": "Python 3 (ipykernel)",
   "language": "python",
   "name": "python3"
  },
  "language_info": {
   "codemirror_mode": {
    "name": "ipython",
    "version": 3
   },
   "file_extension": ".py",
   "mimetype": "text/x-python",
   "name": "python",
   "nbconvert_exporter": "python",
   "pygments_lexer": "ipython3",
   "version": "3.12.6"
  }
 },
 "nbformat": 4,
 "nbformat_minor": 5
}
